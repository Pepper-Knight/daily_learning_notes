{
 "cells": [
  {
   "cell_type": "code",
   "execution_count": null,
   "metadata": {},
   "outputs": [],
   "source": [
    "import threading\n",
    "\n",
    "lock = threading.Lock()\n",
    "\n",
    "def outer():\n",
    "    with lock:\n",
    "        print(\"Outer acquired lock\")\n",
    "        inner()\n",
    "\n",
    "def inner():\n",
    "    with lock:  # ❌ one thread can not get lock\n",
    "        print(\"Inner acquired lock\")\n",
    "\n",
    "outer()"
   ]
  },
  {
   "cell_type": "code",
   "execution_count": 2,
   "metadata": {},
   "outputs": [
    {
     "name": "stdout",
     "output_type": "stream",
     "text": [
      "Outer acquired lock\n",
      "Inner acquired lock\n"
     ]
    }
   ],
   "source": [
    "import threading\n",
    "\n",
    "lock = threading.RLock()\n",
    "\n",
    "def outer():\n",
    "    with lock:\n",
    "        print(\"Outer acquired lock\")\n",
    "        inner()\n",
    "\n",
    "def inner():\n",
    "    with lock:  # ✅ one thread can get RLock\n",
    "        print(\"Inner acquired lock\")\n",
    "\n",
    "outer()\n"
   ]
  },
  {
   "cell_type": "code",
   "execution_count": 20,
   "metadata": {},
   "outputs": [
    {
     "name": "stdout",
     "output_type": "stream",
     "text": [
      "Thread-0 acquired lock\n"
     ]
    },
    {
     "name": "stdout",
     "output_type": "stream",
     "text": [
      "Thread-0 released lock\n",
      "Thread-1 acquired lock\n",
      "Thread-1 released lock\n",
      "Thread-2 acquired lock\n",
      "Thread-2 released lock\n"
     ]
    }
   ],
   "source": [
    "import threading, time\n",
    "\n",
    "lock = threading.Lock()\n",
    "\n",
    "def job(name):\n",
    "    with lock:\n",
    "        print(f\"{name} acquired lock\")\n",
    "        time.sleep(2)\n",
    "        print(f\"{name} released lock\")\n",
    "\n",
    "for i in range(3):\n",
    "    threading.Thread(target=job, args=(f\"Thread-{i}\",)).start()\n"
   ]
  },
  {
   "cell_type": "code",
   "execution_count": 23,
   "metadata": {},
   "outputs": [
    {
     "name": "stdout",
     "output_type": "stream",
     "text": [
      "Task-0 acquired lock\n",
      "Task-0 released lock\n",
      "Task-1 acquired lock\n",
      "Task-1 released lock\n",
      "Task-2 acquired lock\n",
      "Task-2 released lock\n"
     ]
    }
   ],
   "source": [
    "import asyncio\n",
    "import nest_asyncio\n",
    "nest_asyncio.apply()\n",
    "\n",
    "lock = asyncio.Lock()\n",
    "\n",
    "async def job(name):\n",
    "    async with lock:\n",
    "        print(f\"{name} acquired lock\")\n",
    "        await asyncio.sleep(2)\n",
    "        print(f\"{name} released lock\")\n",
    "\n",
    "async def main():\n",
    "    await asyncio.gather(*(job(f\"Task-{i}\") for i in range(3)))\n",
    "\n",
    "asyncio.run(main())\n"
   ]
  },
  {
   "cell_type": "code",
   "execution_count": 26,
   "metadata": {},
   "outputs": [],
   "source": [
    "a = {1}"
   ]
  },
  {
   "cell_type": "code",
   "execution_count": 30,
   "metadata": {},
   "outputs": [],
   "source": [
    "from collections import deque\n",
    "\n",
    "a = deque([1])"
   ]
  },
  {
   "cell_type": "code",
   "execution_count": 32,
   "metadata": {},
   "outputs": [],
   "source": [
    "a.append(2)"
   ]
  },
  {
   "cell_type": "code",
   "execution_count": 33,
   "metadata": {},
   "outputs": [
    {
     "data": {
      "text/plain": [
       "deque([1, 2])"
      ]
     },
     "execution_count": 33,
     "metadata": {},
     "output_type": "execute_result"
    }
   ],
   "source": [
    "a"
   ]
  },
  {
   "cell_type": "code",
   "execution_count": 34,
   "metadata": {},
   "outputs": [
    {
     "data": {
      "text/plain": [
       "1"
      ]
     },
     "execution_count": 34,
     "metadata": {},
     "output_type": "execute_result"
    }
   ],
   "source": [
    "bombs = [[1,1,5],[10,10,5]]\n",
    "bombs[0][0]"
   ]
  },
  {
   "cell_type": "code",
   "execution_count": null,
   "metadata": {},
   "outputs": [],
   "source": []
  }
 ],
 "metadata": {
  "kernelspec": {
   "display_name": "daily-learning-notes-DvNAY38J-py3.13",
   "language": "python",
   "name": "python3"
  },
  "language_info": {
   "codemirror_mode": {
    "name": "ipython",
    "version": 3
   },
   "file_extension": ".py",
   "mimetype": "text/x-python",
   "name": "python",
   "nbconvert_exporter": "python",
   "pygments_lexer": "ipython3",
   "version": "3.13.2"
  }
 },
 "nbformat": 4,
 "nbformat_minor": 2
}
