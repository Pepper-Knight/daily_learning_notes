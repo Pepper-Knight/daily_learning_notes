{
 "cells": [
  {
   "cell_type": "markdown",
   "metadata": {},
   "source": [
    "# Eigen Decomposition vs Singular Value Decomposition"
   ]
  },
  {
   "cell_type": "code",
   "execution_count": null,
   "metadata": {},
   "outputs": [],
   "source": [
    "import numpy as np\n",
    "import torch"
   ]
  },
  {
   "cell_type": "markdown",
   "metadata": {},
   "source": [
    "### SVD by Numpy"
   ]
  },
  {
   "cell_type": "code",
   "execution_count": 8,
   "metadata": {},
   "outputs": [
    {
     "name": "stdout",
     "output_type": "stream",
     "text": [
      "[[ 0.0307883   1.26916929  0.78212227]\n",
      " [ 0.4657832   0.77049058  0.53491485]\n",
      " [ 0.22755684  0.03160206  1.0147652 ]\n",
      " [-1.92543727 -1.63114219  0.06700461]\n",
      " [-0.6602673   0.36404303  0.31565601]]\n"
     ]
    }
   ],
   "source": [
    "A = np.random.randn(5, 3)\n",
    "print(A)"
   ]
  },
  {
   "cell_type": "code",
   "execution_count": 9,
   "metadata": {},
   "outputs": [],
   "source": [
    "U, S, Vt = np.linalg.svd(A)"
   ]
  },
  {
   "cell_type": "code",
   "execution_count": 13,
   "metadata": {},
   "outputs": [
    {
     "data": {
      "text/plain": [
       "((5, 5), (3,), (3, 3))"
      ]
     },
     "execution_count": 13,
     "metadata": {},
     "output_type": "execute_result"
    }
   ],
   "source": [
    "U.shape, S.shape, Vt.shape"
   ]
  },
  {
   "cell_type": "code",
   "execution_count": 10,
   "metadata": {},
   "outputs": [
    {
     "data": {
      "text/plain": [
       "array([[ 1.00000000e+00,  1.38777878e-17, -1.11022302e-16,\n",
       "         2.22044605e-16,  2.77555756e-17],\n",
       "       [ 1.38777878e-17,  1.00000000e+00, -1.38777878e-16,\n",
       "         1.66533454e-16, -5.55111512e-17],\n",
       "       [-1.11022302e-16, -1.38777878e-16,  1.00000000e+00,\n",
       "        -6.93889390e-17, -2.77555756e-17],\n",
       "       [ 2.22044605e-16,  1.66533454e-16, -6.93889390e-17,\n",
       "         1.00000000e+00, -2.22044605e-16],\n",
       "       [ 2.77555756e-17, -5.55111512e-17, -2.77555756e-17,\n",
       "        -2.22044605e-16,  1.00000000e+00]])"
      ]
     },
     "execution_count": 10,
     "metadata": {},
     "output_type": "execute_result"
    }
   ],
   "source": [
    "U.dot(U.T)"
   ]
  },
  {
   "cell_type": "code",
   "execution_count": 11,
   "metadata": {},
   "outputs": [
    {
     "data": {
      "text/plain": [
       "array([[ 1.00000000e+00, -5.55111512e-17,  0.00000000e+00],\n",
       "       [-5.55111512e-17,  1.00000000e+00,  0.00000000e+00],\n",
       "       [ 0.00000000e+00,  0.00000000e+00,  1.00000000e+00]])"
      ]
     },
     "execution_count": 11,
     "metadata": {},
     "output_type": "execute_result"
    }
   ],
   "source": [
    "Vt.dot(Vt.T)"
   ]
  },
  {
   "cell_type": "code",
   "execution_count": 12,
   "metadata": {},
   "outputs": [
    {
     "data": {
      "text/plain": [
       "np.int64(3)"
      ]
     },
     "execution_count": 12,
     "metadata": {},
     "output_type": "execute_result"
    }
   ],
   "source": [
    "np.linalg.matrix_rank(A)"
   ]
  },
  {
   "cell_type": "code",
   "execution_count": 17,
   "metadata": {},
   "outputs": [],
   "source": [
    "Sf = np.zeros(A.shape)"
   ]
  },
  {
   "cell_type": "code",
   "execution_count": 24,
   "metadata": {},
   "outputs": [],
   "source": [
    "Sf[:3, :3] = np.diag(S)"
   ]
  },
  {
   "cell_type": "code",
   "execution_count": 25,
   "metadata": {},
   "outputs": [
    {
     "data": {
      "text/plain": [
       "array([[ 0.0307883 ,  1.26916929,  0.78212227],\n",
       "       [ 0.4657832 ,  0.77049058,  0.53491485],\n",
       "       [ 0.22755684,  0.03160206,  1.0147652 ],\n",
       "       [-1.92543727, -1.63114219,  0.06700461],\n",
       "       [-0.6602673 ,  0.36404303,  0.31565601]])"
      ]
     },
     "execution_count": 25,
     "metadata": {},
     "output_type": "execute_result"
    }
   ],
   "source": [
    "U.dot(Sf).dot(Vt)"
   ]
  },
  {
   "cell_type": "markdown",
   "metadata": {},
   "source": [
    "### Eigen Decomposition vs Singular Value Decomposition"
   ]
  },
  {
   "cell_type": "markdown",
   "metadata": {},
   "source": [
    "Calculate Eigen Value and Eigen Vector"
   ]
  },
  {
   "cell_type": "code",
   "execution_count": 143,
   "metadata": {},
   "outputs": [
    {
     "data": {
      "text/plain": [
       "tensor([[4.0000, 8.5000, 3.5000],\n",
       "        [8.5000, 2.0000, 5.5000],\n",
       "        [3.5000, 5.5000, 0.0000]])"
      ]
     },
     "execution_count": 143,
     "metadata": {},
     "output_type": "execute_result"
    }
   ],
   "source": [
    "A = torch.randint(0, 10, (3, 3)).float()\n",
    "A = (A + A.T)/2\n",
    "A"
   ]
  },
  {
   "cell_type": "code",
   "execution_count": 154,
   "metadata": {},
   "outputs": [
    {
     "data": {
      "text/plain": [
       "tensor([[ 1.8804,  0.5209,  1.9402],\n",
       "        [-0.6406, -0.3380,  0.5921],\n",
       "        [ 1.1248, -2.4895,  0.2965]])"
      ]
     },
     "execution_count": 154,
     "metadata": {},
     "output_type": "execute_result"
    }
   ],
   "source": [
    "B = torch.randn(3, 3)\n",
    "B"
   ]
  },
  {
   "cell_type": "code",
   "execution_count": 156,
   "metadata": {},
   "outputs": [
    {
     "data": {
      "text/plain": [
       "(tensor([-6.3292, -2.0035, 14.3327]),\n",
       " tensor([[-0.5014,  0.5609, -0.6588],\n",
       "         [ 0.7710, -0.0560, -0.6344],\n",
       "         [-0.3927, -0.8260, -0.4043]]))"
      ]
     },
     "execution_count": 156,
     "metadata": {},
     "output_type": "execute_result"
    }
   ],
   "source": [
    "a_eigenvalues, a_eigenvectors = torch.linalg.eigh(A)\n",
    "a_eigenvalues, a_eigenvectors"
   ]
  },
  {
   "cell_type": "code",
   "execution_count": 159,
   "metadata": {},
   "outputs": [
    {
     "data": {
      "text/plain": [
       "(tensor([-2.5472,  0.8935,  3.4926]),\n",
       " tensor([[ 0.0638,  0.7816, -0.6206],\n",
       "         [-0.7382,  0.4554,  0.4976],\n",
       "         [-0.6715, -0.4264, -0.6060]]))"
      ]
     },
     "execution_count": 159,
     "metadata": {},
     "output_type": "execute_result"
    }
   ],
   "source": [
    "b_eigenvalues, b_eigenvectors = torch.linalg.eigh(B)\n",
    "b_eigenvalues, b_eigenvectors"
   ]
  },
  {
   "cell_type": "markdown",
   "metadata": {},
   "source": [
    "Reconstructed A by Eigen Value and Eigen Vector"
   ]
  },
  {
   "cell_type": "code",
   "execution_count": 161,
   "metadata": {},
   "outputs": [
    {
     "data": {
      "text/plain": [
       "tensor([[ 4.0000e+00,  8.5000e+00,  3.5000e+00],\n",
       "        [ 8.5000e+00,  2.0000e+00,  5.5000e+00],\n",
       "        [ 3.5000e+00,  5.5000e+00, -4.7684e-07]])"
      ]
     },
     "execution_count": 161,
     "metadata": {},
     "output_type": "execute_result"
    }
   ],
   "source": [
    "A_hat = a_eigenvectors @ torch.diag(a_eigenvalues) @ a_eigenvectors.T\n",
    "A_hat"
   ]
  },
  {
   "cell_type": "code",
   "execution_count": 162,
   "metadata": {},
   "outputs": [
    {
     "data": {
      "text/plain": [
       "tensor(4.1706e-06)"
      ]
     },
     "execution_count": 162,
     "metadata": {},
     "output_type": "execute_result"
    }
   ],
   "source": [
    "torch.norm(A - A_hat)"
   ]
  },
  {
   "cell_type": "code",
   "execution_count": 164,
   "metadata": {},
   "outputs": [
    {
     "data": {
      "text/plain": [
       "tensor([[ 1.8804, -0.6406,  1.1248],\n",
       "        [-0.6406, -0.3380, -2.4895],\n",
       "        [ 1.1248, -2.4895,  0.2965]])"
      ]
     },
     "execution_count": 164,
     "metadata": {},
     "output_type": "execute_result"
    }
   ],
   "source": [
    "B_hat = b_eigenvectors @ torch.diag(b_eigenvalues) @ b_eigenvectors.T\n",
    "B_hat"
   ]
  },
  {
   "cell_type": "code",
   "execution_count": 166,
   "metadata": {},
   "outputs": [
    {
     "data": {
      "text/plain": [
       "tensor(3.3926)"
      ]
     },
     "execution_count": 166,
     "metadata": {},
     "output_type": "execute_result"
    }
   ],
   "source": [
    "torch.norm(B - B_hat)"
   ]
  },
  {
   "cell_type": "markdown",
   "metadata": {},
   "source": [
    "Calculate singular vector and singular value"
   ]
  },
  {
   "cell_type": "code",
   "execution_count": 168,
   "metadata": {},
   "outputs": [
    {
     "data": {
      "text/plain": [
       "(torch.Size([3, 3]),\n",
       " torch.Size([3]),\n",
       " torch.Size([3, 3]),\n",
       " tensor([[-0.6588,  0.5014, -0.5609],\n",
       "         [-0.6344, -0.7710,  0.0560],\n",
       "         [-0.4043,  0.3927,  0.8260]]),\n",
       " tensor([14.3327,  6.3292,  2.0035]),\n",
       " tensor([[-0.6588, -0.6344, -0.4043],\n",
       "         [-0.5014,  0.7710, -0.3927],\n",
       "         [ 0.5609, -0.0560, -0.8260]]))"
      ]
     },
     "execution_count": 168,
     "metadata": {},
     "output_type": "execute_result"
    }
   ],
   "source": [
    "a_U, a_S, a_Vt = torch.linalg.svd(A, full_matrices = True)\n",
    "a_U.shape, a_S.shape, a_Vt.shape, a_U, a_S, a_Vt"
   ]
  },
  {
   "cell_type": "code",
   "execution_count": 169,
   "metadata": {},
   "outputs": [
    {
     "data": {
      "text/plain": [
       "tensor([[4.0000e+00, 8.5000e+00, 3.5000e+00],\n",
       "        [8.5000e+00, 2.0000e+00, 5.5000e+00],\n",
       "        [3.5000e+00, 5.5000e+00, 3.5763e-07]])"
      ]
     },
     "execution_count": 169,
     "metadata": {},
     "output_type": "execute_result"
    }
   ],
   "source": [
    "a_S_full = torch.zeros(A.shape, dtype=a_S.dtype)\n",
    "a_S_full[:3, :3] = torch.diag(a_S)\n",
    "A_reconstructed = a_U @ a_S_full @ a_Vt\n",
    "A_reconstructed"
   ]
  },
  {
   "cell_type": "code",
   "execution_count": 173,
   "metadata": {},
   "outputs": [
    {
     "data": {
      "text/plain": [
       "tensor(5.4797e-06)"
      ]
     },
     "execution_count": 173,
     "metadata": {},
     "output_type": "execute_result"
    }
   ],
   "source": [
    "torch.norm(A - A_reconstructed)"
   ]
  },
  {
   "cell_type": "code",
   "execution_count": 171,
   "metadata": {},
   "outputs": [
    {
     "data": {
      "text/plain": [
       "(torch.Size([3, 3]),\n",
       " torch.Size([3]),\n",
       " torch.Size([3, 3]),\n",
       " tensor([[-0.7092, -0.7036,  0.0455],\n",
       "         [-0.0055,  0.0701,  0.9975],\n",
       "         [-0.7050,  0.7072, -0.0536]]),\n",
       " tensor([2.9925, 2.4887, 0.9212]),\n",
       " tensor([[-0.7094,  0.4637, -0.5308],\n",
       "         [-0.2300, -0.8642, -0.4476],\n",
       "         [-0.6662, -0.1954,  0.7197]]))"
      ]
     },
     "execution_count": 171,
     "metadata": {},
     "output_type": "execute_result"
    }
   ],
   "source": [
    "b_U, b_S, b_Vt = torch.linalg.svd(B, full_matrices = True)\n",
    "b_U.shape, b_S.shape, b_Vt.shape, b_U, b_S, b_Vt"
   ]
  },
  {
   "cell_type": "code",
   "execution_count": 176,
   "metadata": {},
   "outputs": [
    {
     "data": {
      "text/plain": [
       "tensor([[ 1.8804,  0.5209,  1.9402],\n",
       "        [-0.6406, -0.3380,  0.5921],\n",
       "        [ 1.1248, -2.4895,  0.2965]])"
      ]
     },
     "execution_count": 176,
     "metadata": {},
     "output_type": "execute_result"
    }
   ],
   "source": [
    "b_S_full = torch.zeros(A.shape, dtype=b_S.dtype)\n",
    "b_S_full[:3, :3] = torch.diag(b_S)\n",
    "B_reconstructed = b_U @ b_S_full @ b_Vt\n",
    "B_reconstructed"
   ]
  },
  {
   "cell_type": "code",
   "execution_count": 178,
   "metadata": {},
   "outputs": [
    {
     "data": {
      "text/plain": [
       "tensor(2.0112e-06)"
      ]
     },
     "execution_count": 178,
     "metadata": {},
     "output_type": "execute_result"
    }
   ],
   "source": [
    "torch.norm(B - B_reconstructed)"
   ]
  },
  {
   "cell_type": "markdown",
   "metadata": {},
   "source": [
    " Verifying SVD from ED"
   ]
  },
  {
   "cell_type": "code",
   "execution_count": 181,
   "metadata": {},
   "outputs": [
    {
     "data": {
      "text/plain": [
       "tensor(4.5111e-06)"
      ]
     },
     "execution_count": 181,
     "metadata": {},
     "output_type": "execute_result"
    }
   ],
   "source": [
    "ATA = A.T @ A\n",
    "eigvals, V = torch.linalg.eigh(ATA)\n",
    "S = torch.sqrt(eigvals.clamp(min=1e-10))\n",
    "Sigma = torch.diag(S)\n",
    "\n",
    "# Step 2: U = A V Σ⁻¹\n",
    "U = A @ V @ torch.linalg.inv(Sigma)\n",
    "\n",
    "# Step 3: Reconstruct A\n",
    "A_hat = U @ Sigma @ V.T\n",
    "torch.norm(A - A_hat)"
   ]
  },
  {
   "cell_type": "code",
   "execution_count": null,
   "metadata": {},
   "outputs": [],
   "source": []
  }
 ],
 "metadata": {
  "kernelspec": {
   "display_name": "daily-learning-notes-DvNAY38J-py3.13",
   "language": "python",
   "name": "python3"
  },
  "language_info": {
   "codemirror_mode": {
    "name": "ipython",
    "version": 3
   },
   "file_extension": ".py",
   "mimetype": "text/x-python",
   "name": "python",
   "nbconvert_exporter": "python",
   "pygments_lexer": "ipython3",
   "version": "3.13.2"
  }
 },
 "nbformat": 4,
 "nbformat_minor": 2
}
