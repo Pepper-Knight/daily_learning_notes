{
 "cells": [
  {
   "cell_type": "markdown",
   "metadata": {},
   "source": [
    "# How XGBoost works"
   ]
  },
  {
   "cell_type": "markdown",
   "metadata": {},
   "source": [
    "## Base Tree Model Split"
   ]
  },
  {
   "cell_type": "code",
   "execution_count": 8,
   "metadata": {},
   "outputs": [],
   "source": [
    "import numpy as np\n",
    "\n",
    "x = np.array([1, 2, 3, 4, 5])\n",
    "y = np.array([5, 6, 7, 15, 16])\n",
    "\n",
    "sorted_idx = np.argsort(x)\n",
    "\n",
    "x = x[sorted_idx]\n",
    "y = y[sorted_idx]"
   ]
  },
  {
   "cell_type": "code",
   "execution_count": 10,
   "metadata": {},
   "outputs": [],
   "source": [
    "best_mse = np.inf\n",
    "best_split = None"
   ]
  },
  {
   "cell_type": "code",
   "execution_count": 12,
   "metadata": {},
   "outputs": [
    {
     "name": "stdout",
     "output_type": "stream",
     "text": [
      "Best split at x = 3.5, MSE = 0.5000\n"
     ]
    }
   ],
   "source": [
    "n = len(x)\n",
    "\n",
    "for i in range(1,n):\n",
    "    left_y = y[:i]\n",
    "    right_y = y[i:]\n",
    "\n",
    "    left_mse = np.mean((left_y - np.mean(left_y)) ** 2)\n",
    "    right_mse = np.mean((right_y - np.mean(right_y)) ** 2)\n",
    "\n",
    "    total_mse = (len(left_y) * left_mse + len(right_y) * right_mse)/2\n",
    "\n",
    "    if total_mse < best_mse:\n",
    "        best_mse = total_mse\n",
    "        best_split = (x[i-1] + x[i])/2\n",
    "print(f\"Best split at x = {best_split}, MSE = {best_mse:.4f}\")\n"
   ]
  },
  {
   "cell_type": "markdown",
   "metadata": {},
   "source": [
    "## XGboost Split"
   ]
  },
  {
   "cell_type": "code",
   "execution_count": 15,
   "metadata": {},
   "outputs": [],
   "source": [
    "x = np.array([1, 2, 3, 4, 5])\n",
    "y = np.array([5, 6, 7, 15, 16])\n",
    "\n",
    "g = np.array([0, -1, -2, -10, -11])     #gradient \n",
    "h = np.ones_like(g) * 1.0              # hessian \n",
    "\n",
    "# Sorting\n",
    "sorted_idx = np.argsort(x)\n",
    "x = x[sorted_idx]\n",
    "g = g[sorted_idx]\n",
    "h = h[sorted_idx]\n",
    "\n",
    "# Init\n",
    "best_gain = -np.inf\n",
    "best_split = None\n",
    "lambda_ = 1.0  # L2 \n",
    "gamma = 0.0    #min gain\n",
    "\n",
    "G_total = np.sum(g)\n",
    "H_total = np.sum(h)\n",
    "\n",
    "G_left = 0.0\n",
    "H_left = 0.0"
   ]
  },
  {
   "cell_type": "code",
   "execution_count": 16,
   "metadata": {},
   "outputs": [
    {
     "name": "stdout",
     "output_type": "stream",
     "text": [
      "Best split at x = 3.5, gain = 26.6250\n"
     ]
    }
   ],
   "source": [
    "for i in range(1, len(x)):\n",
    "    G_left += g[i-1]\n",
    "    H_left += h[i-1]\n",
    "\n",
    "    G_right = G_total - G_left\n",
    "    H_right = H_total - H_left\n",
    "\n",
    "    gain = 0.5 * (G_left**2 / (H_left + lambda_) + \n",
    "                  G_right**2 / (H_right + lambda_) -\n",
    "                  G_total**2 / (H_total + lambda_)) - gamma\n",
    "    \n",
    "    if gain > best_gain:\n",
    "        best_gain = gain\n",
    "        best_split = (x[i - 1] + x[i]) / 2\n",
    "\n",
    "print(f\"Best split at x = {best_split}, gain = {best_gain:.4f}\")"
   ]
  },
  {
   "cell_type": "code",
   "execution_count": null,
   "metadata": {},
   "outputs": [],
   "source": []
  }
 ],
 "metadata": {
  "kernelspec": {
   "display_name": "daily-learning-notes-DvNAY38J-py3.13",
   "language": "python",
   "name": "python3"
  },
  "language_info": {
   "codemirror_mode": {
    "name": "ipython",
    "version": 3
   },
   "file_extension": ".py",
   "mimetype": "text/x-python",
   "name": "python",
   "nbconvert_exporter": "python",
   "pygments_lexer": "ipython3",
   "version": "3.13.2"
  }
 },
 "nbformat": 4,
 "nbformat_minor": 2
}
